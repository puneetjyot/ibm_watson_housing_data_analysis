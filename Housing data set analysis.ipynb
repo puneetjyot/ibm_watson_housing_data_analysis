{
    "cells": [
        {
            "metadata": {
                "collapsed": true
            },
            "cell_type": "code",
            "source": "",
            "execution_count": null,
            "outputs": []
        }
    ],
    "metadata": {
        "kernelspec": {
            "name": "scala-spark23",
            "display_name": "Scala 2.11 with Spark 2.3 (YARN Client Mode)",
            "language": "scala"
        },
        "language_info": {
            "mimetype": "text/x-scala",
            "name": "scala",
            "pygments_lexer": "scala",
            "version": "2.11.8",
            "file_extension": ".scala",
            "codemirror_mode": "text/x-scala"
        }
    },
    "nbformat": 4,
    "nbformat_minor": 1
}